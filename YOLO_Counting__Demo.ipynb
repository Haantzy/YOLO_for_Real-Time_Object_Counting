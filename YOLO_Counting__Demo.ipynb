{
  "nbformat": 4,
  "nbformat_minor": 0,
  "metadata": {
    "colab": {
      "name": "Copy of YOLO_Counting _Demo.ipynb",
      "provenance": [],
      "authorship_tag": "ABX9TyPKhjnC377upfacu0K6r42B",
      "include_colab_link": true
    },
    "kernelspec": {
      "name": "python3",
      "display_name": "Python 3"
    },
    "language_info": {
      "name": "python"
    }
  },
  "cells": [
    {
      "cell_type": "markdown",
      "metadata": {
        "id": "view-in-github",
        "colab_type": "text"
      },
      "source": [
        "<a href=\"https://colab.research.google.com/github/Haantzy/YOLO_for_Real-Time_Object_Counting/blob/master/YOLO_Counting__Demo.ipynb\" target=\"_parent\"><img src=\"https://colab.research.google.com/assets/colab-badge.svg\" alt=\"Open In Colab\"/></a>"
      ]
    },
    {
      "cell_type": "code",
      "metadata": {
        "id": "w6Uy0M6Zv5ir",
        "colab": {
          "base_uri": "https://localhost:8080/"
        },
        "outputId": "634a4d8f-a71b-4f68-877a-59845d67fa0b"
      },
      "source": [
        "!git clone https://github.com/Haantzy/YOLO_for_Real-Time_Object_Counting.git"
      ],
      "execution_count": null,
      "outputs": [
        {
          "output_type": "stream",
          "name": "stdout",
          "text": [
            "Cloning into 'YOLO_for_Real-Time_Object_Counting'...\n",
            "remote: Enumerating objects: 198, done.\u001b[K\n",
            "remote: Counting objects: 100% (54/54), done.\u001b[K\n",
            "remote: Compressing objects: 100% (52/52), done.\u001b[K\n",
            "remote: Total 198 (delta 20), reused 1 (delta 1), pack-reused 144\u001b[K\n",
            "Receiving objects: 100% (198/198), 58.79 MiB | 36.82 MiB/s, done.\n",
            "Resolving deltas: 100% (69/69), done.\n"
          ]
        }
      ]
    },
    {
      "cell_type": "code",
      "metadata": {
        "id": "ooxa1B6O8f50",
        "colab": {
          "base_uri": "https://localhost:8080/"
        },
        "outputId": "5aab21e6-c101-43c9-c4dc-da346f99160a"
      },
      "source": [
        "%cd YOLO_for_Real-Time_Object_Counting\n"
      ],
      "execution_count": null,
      "outputs": [
        {
          "output_type": "stream",
          "name": "stdout",
          "text": [
            "/content/YOLO_for_Real-Time_Object_Counting\n"
          ]
        }
      ]
    },
    {
      "cell_type": "code",
      "metadata": {
        "id": "S--vDcGwyyfV",
        "colab": {
          "base_uri": "https://localhost:8080/"
        },
        "outputId": "d185b04e-1b5d-4cb5-fe49-5f7d4c2e05f2"
      },
      "source": [
        "%pip install -r requirements.txt\n",
        "!apt install nvidia-driver-430\n",
        "!wget https://pjreddie.com/media/files/yolov3.weights -O weights/yolov3.weights\n",
        "!python3 load_weights.py"
      ],
      "execution_count": null,
      "outputs": [
        {
          "output_type": "stream",
          "name": "stdout",
          "text": [
            "Collecting tensorflow==2.5.0\n",
            "  Downloading tensorflow-2.5.0-cp37-cp37m-manylinux2010_x86_64.whl (454.3 MB)\n",
            "\u001b[K     |████████████████████████████████| 454.3 MB 14 kB/s \n",
            "\u001b[?25hRequirement already satisfied: numpy in /usr/local/lib/python3.7/dist-packages (from -r requirements.txt (line 2)) (1.19.5)\n",
            "Collecting opencv-python==4.1.1.26\n",
            "  Downloading opencv_python-4.1.1.26-cp37-cp37m-manylinux1_x86_64.whl (28.7 MB)\n",
            "\u001b[K     |████████████████████████████████| 28.7 MB 1.5 MB/s \n",
            "\u001b[?25hRequirement already satisfied: lxml in /usr/local/lib/python3.7/dist-packages (from -r requirements.txt (line 4)) (4.2.6)\n",
            "Requirement already satisfied: tqdm in /usr/local/lib/python3.7/dist-packages (from -r requirements.txt (line 5)) (4.62.2)\n",
            "Requirement already satisfied: seaborn in /usr/local/lib/python3.7/dist-packages (from -r requirements.txt (line 6)) (0.11.2)\n",
            "Requirement already satisfied: pillow in /usr/local/lib/python3.7/dist-packages (from -r requirements.txt (line 7)) (7.1.2)\n",
            "Requirement already satisfied: google-pasta~=0.2 in /usr/local/lib/python3.7/dist-packages (from tensorflow==2.5.0->-r requirements.txt (line 1)) (0.2.0)\n",
            "Requirement already satisfied: h5py~=3.1.0 in /usr/local/lib/python3.7/dist-packages (from tensorflow==2.5.0->-r requirements.txt (line 1)) (3.1.0)\n",
            "Requirement already satisfied: wrapt~=1.12.1 in /usr/local/lib/python3.7/dist-packages (from tensorflow==2.5.0->-r requirements.txt (line 1)) (1.12.1)\n",
            "Requirement already satisfied: typing-extensions~=3.7.4 in /usr/local/lib/python3.7/dist-packages (from tensorflow==2.5.0->-r requirements.txt (line 1)) (3.7.4.3)\n",
            "Requirement already satisfied: termcolor~=1.1.0 in /usr/local/lib/python3.7/dist-packages (from tensorflow==2.5.0->-r requirements.txt (line 1)) (1.1.0)\n",
            "Collecting grpcio~=1.34.0\n",
            "  Downloading grpcio-1.34.1-cp37-cp37m-manylinux2014_x86_64.whl (4.0 MB)\n",
            "\u001b[K     |████████████████████████████████| 4.0 MB 68.4 MB/s \n",
            "\u001b[?25hRequirement already satisfied: opt-einsum~=3.3.0 in /usr/local/lib/python3.7/dist-packages (from tensorflow==2.5.0->-r requirements.txt (line 1)) (3.3.0)\n",
            "Requirement already satisfied: six~=1.15.0 in /usr/local/lib/python3.7/dist-packages (from tensorflow==2.5.0->-r requirements.txt (line 1)) (1.15.0)\n",
            "Requirement already satisfied: keras-preprocessing~=1.1.2 in /usr/local/lib/python3.7/dist-packages (from tensorflow==2.5.0->-r requirements.txt (line 1)) (1.1.2)\n",
            "Requirement already satisfied: astunparse~=1.6.3 in /usr/local/lib/python3.7/dist-packages (from tensorflow==2.5.0->-r requirements.txt (line 1)) (1.6.3)\n",
            "Requirement already satisfied: tensorboard~=2.5 in /usr/local/lib/python3.7/dist-packages (from tensorflow==2.5.0->-r requirements.txt (line 1)) (2.6.0)\n",
            "Requirement already satisfied: absl-py~=0.10 in /usr/local/lib/python3.7/dist-packages (from tensorflow==2.5.0->-r requirements.txt (line 1)) (0.12.0)\n",
            "Requirement already satisfied: wheel~=0.35 in /usr/local/lib/python3.7/dist-packages (from tensorflow==2.5.0->-r requirements.txt (line 1)) (0.37.0)\n",
            "Requirement already satisfied: flatbuffers~=1.12.0 in /usr/local/lib/python3.7/dist-packages (from tensorflow==2.5.0->-r requirements.txt (line 1)) (1.12)\n",
            "Requirement already satisfied: protobuf>=3.9.2 in /usr/local/lib/python3.7/dist-packages (from tensorflow==2.5.0->-r requirements.txt (line 1)) (3.17.3)\n",
            "Collecting tensorflow-estimator<2.6.0,>=2.5.0rc0\n",
            "  Downloading tensorflow_estimator-2.5.0-py2.py3-none-any.whl (462 kB)\n",
            "\u001b[K     |████████████████████████████████| 462 kB 75.9 MB/s \n",
            "\u001b[?25hCollecting keras-nightly~=2.5.0.dev\n",
            "  Downloading keras_nightly-2.5.0.dev2021032900-py2.py3-none-any.whl (1.2 MB)\n",
            "\u001b[K     |████████████████████████████████| 1.2 MB 80.0 MB/s \n",
            "\u001b[?25hRequirement already satisfied: gast==0.4.0 in /usr/local/lib/python3.7/dist-packages (from tensorflow==2.5.0->-r requirements.txt (line 1)) (0.4.0)\n",
            "Requirement already satisfied: cached-property in /usr/local/lib/python3.7/dist-packages (from h5py~=3.1.0->tensorflow==2.5.0->-r requirements.txt (line 1)) (1.5.2)\n",
            "Requirement already satisfied: setuptools>=41.0.0 in /usr/local/lib/python3.7/dist-packages (from tensorboard~=2.5->tensorflow==2.5.0->-r requirements.txt (line 1)) (57.4.0)\n",
            "Requirement already satisfied: google-auth-oauthlib<0.5,>=0.4.1 in /usr/local/lib/python3.7/dist-packages (from tensorboard~=2.5->tensorflow==2.5.0->-r requirements.txt (line 1)) (0.4.6)\n",
            "Requirement already satisfied: tensorboard-plugin-wit>=1.6.0 in /usr/local/lib/python3.7/dist-packages (from tensorboard~=2.5->tensorflow==2.5.0->-r requirements.txt (line 1)) (1.8.0)\n",
            "Requirement already satisfied: requests<3,>=2.21.0 in /usr/local/lib/python3.7/dist-packages (from tensorboard~=2.5->tensorflow==2.5.0->-r requirements.txt (line 1)) (2.23.0)\n",
            "Requirement already satisfied: werkzeug>=0.11.15 in /usr/local/lib/python3.7/dist-packages (from tensorboard~=2.5->tensorflow==2.5.0->-r requirements.txt (line 1)) (1.0.1)\n",
            "Requirement already satisfied: tensorboard-data-server<0.7.0,>=0.6.0 in /usr/local/lib/python3.7/dist-packages (from tensorboard~=2.5->tensorflow==2.5.0->-r requirements.txt (line 1)) (0.6.1)\n",
            "Requirement already satisfied: google-auth<2,>=1.6.3 in /usr/local/lib/python3.7/dist-packages (from tensorboard~=2.5->tensorflow==2.5.0->-r requirements.txt (line 1)) (1.35.0)\n",
            "Requirement already satisfied: markdown>=2.6.8 in /usr/local/lib/python3.7/dist-packages (from tensorboard~=2.5->tensorflow==2.5.0->-r requirements.txt (line 1)) (3.3.4)\n",
            "Requirement already satisfied: cachetools<5.0,>=2.0.0 in /usr/local/lib/python3.7/dist-packages (from google-auth<2,>=1.6.3->tensorboard~=2.5->tensorflow==2.5.0->-r requirements.txt (line 1)) (4.2.2)\n",
            "Requirement already satisfied: rsa<5,>=3.1.4 in /usr/local/lib/python3.7/dist-packages (from google-auth<2,>=1.6.3->tensorboard~=2.5->tensorflow==2.5.0->-r requirements.txt (line 1)) (4.7.2)\n",
            "Requirement already satisfied: pyasn1-modules>=0.2.1 in /usr/local/lib/python3.7/dist-packages (from google-auth<2,>=1.6.3->tensorboard~=2.5->tensorflow==2.5.0->-r requirements.txt (line 1)) (0.2.8)\n",
            "Requirement already satisfied: requests-oauthlib>=0.7.0 in /usr/local/lib/python3.7/dist-packages (from google-auth-oauthlib<0.5,>=0.4.1->tensorboard~=2.5->tensorflow==2.5.0->-r requirements.txt (line 1)) (1.3.0)\n",
            "Requirement already satisfied: importlib-metadata in /usr/local/lib/python3.7/dist-packages (from markdown>=2.6.8->tensorboard~=2.5->tensorflow==2.5.0->-r requirements.txt (line 1)) (4.8.1)\n",
            "Requirement already satisfied: pyasn1<0.5.0,>=0.4.6 in /usr/local/lib/python3.7/dist-packages (from pyasn1-modules>=0.2.1->google-auth<2,>=1.6.3->tensorboard~=2.5->tensorflow==2.5.0->-r requirements.txt (line 1)) (0.4.8)\n",
            "Requirement already satisfied: idna<3,>=2.5 in /usr/local/lib/python3.7/dist-packages (from requests<3,>=2.21.0->tensorboard~=2.5->tensorflow==2.5.0->-r requirements.txt (line 1)) (2.10)\n",
            "Requirement already satisfied: urllib3!=1.25.0,!=1.25.1,<1.26,>=1.21.1 in /usr/local/lib/python3.7/dist-packages (from requests<3,>=2.21.0->tensorboard~=2.5->tensorflow==2.5.0->-r requirements.txt (line 1)) (1.24.3)\n",
            "Requirement already satisfied: certifi>=2017.4.17 in /usr/local/lib/python3.7/dist-packages (from requests<3,>=2.21.0->tensorboard~=2.5->tensorflow==2.5.0->-r requirements.txt (line 1)) (2021.5.30)\n",
            "Requirement already satisfied: chardet<4,>=3.0.2 in /usr/local/lib/python3.7/dist-packages (from requests<3,>=2.21.0->tensorboard~=2.5->tensorflow==2.5.0->-r requirements.txt (line 1)) (3.0.4)\n",
            "Requirement already satisfied: oauthlib>=3.0.0 in /usr/local/lib/python3.7/dist-packages (from requests-oauthlib>=0.7.0->google-auth-oauthlib<0.5,>=0.4.1->tensorboard~=2.5->tensorflow==2.5.0->-r requirements.txt (line 1)) (3.1.1)\n",
            "Requirement already satisfied: matplotlib>=2.2 in /usr/local/lib/python3.7/dist-packages (from seaborn->-r requirements.txt (line 6)) (3.2.2)\n",
            "Requirement already satisfied: scipy>=1.0 in /usr/local/lib/python3.7/dist-packages (from seaborn->-r requirements.txt (line 6)) (1.4.1)\n",
            "Requirement already satisfied: pandas>=0.23 in /usr/local/lib/python3.7/dist-packages (from seaborn->-r requirements.txt (line 6)) (1.1.5)\n",
            "Requirement already satisfied: pyparsing!=2.0.4,!=2.1.2,!=2.1.6,>=2.0.1 in /usr/local/lib/python3.7/dist-packages (from matplotlib>=2.2->seaborn->-r requirements.txt (line 6)) (2.4.7)\n",
            "Requirement already satisfied: kiwisolver>=1.0.1 in /usr/local/lib/python3.7/dist-packages (from matplotlib>=2.2->seaborn->-r requirements.txt (line 6)) (1.3.2)\n",
            "Requirement already satisfied: python-dateutil>=2.1 in /usr/local/lib/python3.7/dist-packages (from matplotlib>=2.2->seaborn->-r requirements.txt (line 6)) (2.8.2)\n",
            "Requirement already satisfied: cycler>=0.10 in /usr/local/lib/python3.7/dist-packages (from matplotlib>=2.2->seaborn->-r requirements.txt (line 6)) (0.10.0)\n",
            "Requirement already satisfied: pytz>=2017.2 in /usr/local/lib/python3.7/dist-packages (from pandas>=0.23->seaborn->-r requirements.txt (line 6)) (2018.9)\n",
            "Requirement already satisfied: zipp>=0.5 in /usr/local/lib/python3.7/dist-packages (from importlib-metadata->markdown>=2.6.8->tensorboard~=2.5->tensorflow==2.5.0->-r requirements.txt (line 1)) (3.5.0)\n",
            "Installing collected packages: grpcio, tensorflow-estimator, keras-nightly, tensorflow, opencv-python\n",
            "  Attempting uninstall: grpcio\n",
            "    Found existing installation: grpcio 1.40.0\n",
            "    Uninstalling grpcio-1.40.0:\n",
            "      Successfully uninstalled grpcio-1.40.0\n",
            "  Attempting uninstall: tensorflow-estimator\n",
            "    Found existing installation: tensorflow-estimator 2.6.0\n",
            "    Uninstalling tensorflow-estimator-2.6.0:\n",
            "      Successfully uninstalled tensorflow-estimator-2.6.0\n",
            "  Attempting uninstall: tensorflow\n",
            "    Found existing installation: tensorflow 2.6.0\n",
            "    Uninstalling tensorflow-2.6.0:\n",
            "      Successfully uninstalled tensorflow-2.6.0\n",
            "  Attempting uninstall: opencv-python\n",
            "    Found existing installation: opencv-python 4.1.2.30\n",
            "    Uninstalling opencv-python-4.1.2.30:\n",
            "      Successfully uninstalled opencv-python-4.1.2.30\n",
            "\u001b[31mERROR: pip's dependency resolver does not currently take into account all the packages that are installed. This behaviour is the source of the following dependency conflicts.\n",
            "albumentations 0.1.12 requires imgaug<0.2.7,>=0.2.5, but you have imgaug 0.2.9 which is incompatible.\u001b[0m\n",
            "Successfully installed grpcio-1.34.1 keras-nightly-2.5.0.dev2021032900 opencv-python-4.1.1.26 tensorflow-2.5.0 tensorflow-estimator-2.5.0\n",
            "Reading package lists... Done\n",
            "Building dependency tree       \n",
            "Reading state information... Done\n",
            "The following NEW packages will be installed:\n",
            "  nvidia-driver-430\n",
            "0 upgraded, 1 newly installed, 0 to remove and 37 not upgraded.\n",
            "Need to get 6,880 B of archives.\n",
            "After this operation, 18.4 kB of additional disk space will be used.\n",
            "Get:1 https://developer.download.nvidia.com/compute/cuda/repos/ubuntu1804/x86_64  nvidia-driver-430 470.57.02-0ubuntu1 [6,880 B]\n",
            "Fetched 6,880 B in 0s (118 kB/s)\n",
            "Selecting previously unselected package nvidia-driver-430.\n",
            "(Reading database ... 155013 files and directories currently installed.)\n",
            "Preparing to unpack .../nvidia-driver-430_470.57.02-0ubuntu1_amd64.deb ...\n",
            "Unpacking nvidia-driver-430 (470.57.02-0ubuntu1) ...\n",
            "Setting up nvidia-driver-430 (470.57.02-0ubuntu1) ...\n",
            "--2021-09-25 08:01:10--  https://pjreddie.com/media/files/yolov3.weights\n",
            "Resolving pjreddie.com (pjreddie.com)... 128.208.4.108\n",
            "Connecting to pjreddie.com (pjreddie.com)|128.208.4.108|:443... connected.\n",
            "HTTP request sent, awaiting response... 200 OK\n",
            "Length: 248007048 (237M) [application/octet-stream]\n",
            "Saving to: ‘weights/yolov3.weights’\n",
            "\n",
            "weights/yolov3.weig 100%[===================>] 236.52M  42.2MB/s    in 6.1s    \n",
            "\n",
            "2021-09-25 08:01:17 (39.0 MB/s) - ‘weights/yolov3.weights’ saved [248007048/248007048]\n",
            "\n",
            "2021-09-25 08:01:17.511381: I tensorflow/stream_executor/platform/default/dso_loader.cc:53] Successfully opened dynamic library libcudart.so.11.0\n",
            "2021-09-25 08:01:20.392325: I tensorflow/stream_executor/platform/default/dso_loader.cc:53] Successfully opened dynamic library libcuda.so.1\n",
            "2021-09-25 08:01:20.441709: E tensorflow/stream_executor/cuda/cuda_driver.cc:328] failed call to cuInit: CUDA_ERROR_NO_DEVICE: no CUDA-capable device is detected\n",
            "2021-09-25 08:01:20.441777: I tensorflow/stream_executor/cuda/cuda_diagnostics.cc:156] kernel driver does not appear to be running on this host (0f136466fb28): /proc/driver/nvidia/version does not exist\n",
            "2021-09-25 08:01:20.459849: I tensorflow/core/platform/cpu_feature_guard.cc:142] This TensorFlow binary is optimized with oneAPI Deep Neural Network Library (oneDNN) to use the following CPU instructions in performance-critical operations:  AVX2 FMA\n",
            "To enable them in other operations, rebuild TensorFlow with the appropriate compiler flags.\n",
            "Model: \"yolov3\"\n",
            "__________________________________________________________________________________________________\n",
            "Layer (type)                    Output Shape         Param #     Connected to                     \n",
            "==================================================================================================\n",
            "input (InputLayer)              [(None, None, None,  0                                            \n",
            "__________________________________________________________________________________________________\n",
            "yolo_darknet (Functional)       ((None, None, None,  40620640    input[0][0]                      \n",
            "__________________________________________________________________________________________________\n",
            "yolo_conv_0 (Functional)        (None, None, None, 5 11024384    yolo_darknet[0][2]               \n",
            "__________________________________________________________________________________________________\n",
            "yolo_conv_1 (Functional)        (None, None, None, 2 2957312     yolo_conv_0[0][0]                \n",
            "                                                                 yolo_darknet[0][1]               \n",
            "__________________________________________________________________________________________________\n",
            "yolo_conv_2 (Functional)        (None, None, None, 1 741376      yolo_conv_1[0][0]                \n",
            "                                                                 yolo_darknet[0][0]               \n",
            "__________________________________________________________________________________________________\n",
            "yolo_output_0 (Functional)      (None, None, None, 3 4984063     yolo_conv_0[0][0]                \n",
            "__________________________________________________________________________________________________\n",
            "yolo_output_1 (Functional)      (None, None, None, 3 1312511     yolo_conv_1[0][0]                \n",
            "__________________________________________________________________________________________________\n",
            "yolo_output_2 (Functional)      (None, None, None, 3 361471      yolo_conv_2[0][0]                \n",
            "__________________________________________________________________________________________________\n",
            "yolo_boxes_0 (Lambda)           ((None, None, None,  0           yolo_output_0[0][0]              \n",
            "__________________________________________________________________________________________________\n",
            "yolo_boxes_1 (Lambda)           ((None, None, None,  0           yolo_output_1[0][0]              \n",
            "__________________________________________________________________________________________________\n",
            "yolo_boxes_2 (Lambda)           ((None, None, None,  0           yolo_output_2[0][0]              \n",
            "__________________________________________________________________________________________________\n",
            "yolo_nms (Lambda)               ((None, 100, 4), (No 0           yolo_boxes_0[0][0]               \n",
            "                                                                 yolo_boxes_0[0][1]               \n",
            "                                                                 yolo_boxes_0[0][2]               \n",
            "                                                                 yolo_boxes_1[0][0]               \n",
            "                                                                 yolo_boxes_1[0][1]               \n",
            "                                                                 yolo_boxes_1[0][2]               \n",
            "                                                                 yolo_boxes_2[0][0]               \n",
            "                                                                 yolo_boxes_2[0][1]               \n",
            "                                                                 yolo_boxes_2[0][2]               \n",
            "==================================================================================================\n",
            "Total params: 62,001,757\n",
            "Trainable params: 61,949,149\n",
            "Non-trainable params: 52,608\n",
            "__________________________________________________________________________________________________\n",
            "I0925 08:01:23.410647 139966406231936 load_weights.py:19] model created\n",
            "I0925 08:01:23.411841 139966406231936 utils.py:47] yolo_darknet/conv2d bn\n",
            "I0925 08:01:23.413541 139966406231936 utils.py:47] yolo_darknet/conv2d_1 bn\n",
            "I0925 08:01:23.415181 139966406231936 utils.py:47] yolo_darknet/conv2d_2 bn\n",
            "I0925 08:01:23.416750 139966406231936 utils.py:47] yolo_darknet/conv2d_3 bn\n",
            "I0925 08:01:23.418393 139966406231936 utils.py:47] yolo_darknet/conv2d_4 bn\n",
            "I0925 08:01:23.420215 139966406231936 utils.py:47] yolo_darknet/conv2d_5 bn\n",
            "I0925 08:01:23.421788 139966406231936 utils.py:47] yolo_darknet/conv2d_6 bn\n",
            "I0925 08:01:23.423543 139966406231936 utils.py:47] yolo_darknet/conv2d_7 bn\n",
            "I0925 08:01:23.425098 139966406231936 utils.py:47] yolo_darknet/conv2d_8 bn\n",
            "I0925 08:01:23.426864 139966406231936 utils.py:47] yolo_darknet/conv2d_9 bn\n",
            "I0925 08:01:23.429720 139966406231936 utils.py:47] yolo_darknet/conv2d_10 bn\n",
            "I0925 08:01:23.431370 139966406231936 utils.py:47] yolo_darknet/conv2d_11 bn\n",
            "I0925 08:01:23.434130 139966406231936 utils.py:47] yolo_darknet/conv2d_12 bn\n",
            "I0925 08:01:23.435775 139966406231936 utils.py:47] yolo_darknet/conv2d_13 bn\n",
            "I0925 08:01:23.438478 139966406231936 utils.py:47] yolo_darknet/conv2d_14 bn\n",
            "I0925 08:01:23.440100 139966406231936 utils.py:47] yolo_darknet/conv2d_15 bn\n",
            "I0925 08:01:23.442775 139966406231936 utils.py:47] yolo_darknet/conv2d_16 bn\n",
            "I0925 08:01:23.444398 139966406231936 utils.py:47] yolo_darknet/conv2d_17 bn\n",
            "I0925 08:01:23.447166 139966406231936 utils.py:47] yolo_darknet/conv2d_18 bn\n",
            "I0925 08:01:23.448770 139966406231936 utils.py:47] yolo_darknet/conv2d_19 bn\n",
            "I0925 08:01:23.451491 139966406231936 utils.py:47] yolo_darknet/conv2d_20 bn\n",
            "I0925 08:01:23.453124 139966406231936 utils.py:47] yolo_darknet/conv2d_21 bn\n",
            "I0925 08:01:23.455850 139966406231936 utils.py:47] yolo_darknet/conv2d_22 bn\n",
            "I0925 08:01:23.457452 139966406231936 utils.py:47] yolo_darknet/conv2d_23 bn\n",
            "I0925 08:01:23.460143 139966406231936 utils.py:47] yolo_darknet/conv2d_24 bn\n",
            "I0925 08:01:23.461960 139966406231936 utils.py:47] yolo_darknet/conv2d_25 bn\n",
            "I0925 08:01:23.465050 139966406231936 utils.py:47] yolo_darknet/conv2d_26 bn\n",
            "I0925 08:01:23.471986 139966406231936 utils.py:47] yolo_darknet/conv2d_27 bn\n",
            "I0925 08:01:23.474037 139966406231936 utils.py:47] yolo_darknet/conv2d_28 bn\n",
            "I0925 08:01:23.480816 139966406231936 utils.py:47] yolo_darknet/conv2d_29 bn\n",
            "I0925 08:01:23.483036 139966406231936 utils.py:47] yolo_darknet/conv2d_30 bn\n",
            "I0925 08:01:23.489324 139966406231936 utils.py:47] yolo_darknet/conv2d_31 bn\n",
            "I0925 08:01:23.491340 139966406231936 utils.py:47] yolo_darknet/conv2d_32 bn\n",
            "I0925 08:01:23.497692 139966406231936 utils.py:47] yolo_darknet/conv2d_33 bn\n",
            "I0925 08:01:23.499716 139966406231936 utils.py:47] yolo_darknet/conv2d_34 bn\n",
            "I0925 08:01:23.506072 139966406231936 utils.py:47] yolo_darknet/conv2d_35 bn\n",
            "I0925 08:01:23.508096 139966406231936 utils.py:47] yolo_darknet/conv2d_36 bn\n",
            "I0925 08:01:23.514482 139966406231936 utils.py:47] yolo_darknet/conv2d_37 bn\n",
            "I0925 08:01:23.516530 139966406231936 utils.py:47] yolo_darknet/conv2d_38 bn\n",
            "I0925 08:01:23.522939 139966406231936 utils.py:47] yolo_darknet/conv2d_39 bn\n",
            "I0925 08:01:23.524969 139966406231936 utils.py:47] yolo_darknet/conv2d_40 bn\n",
            "I0925 08:01:23.531330 139966406231936 utils.py:47] yolo_darknet/conv2d_41 bn\n",
            "I0925 08:01:23.533348 139966406231936 utils.py:47] yolo_darknet/conv2d_42 bn\n",
            "I0925 08:01:23.539640 139966406231936 utils.py:47] yolo_darknet/conv2d_43 bn\n",
            "I0925 08:01:23.578509 139966406231936 utils.py:47] yolo_darknet/conv2d_44 bn\n",
            "I0925 08:01:23.583879 139966406231936 utils.py:47] yolo_darknet/conv2d_45 bn\n",
            "I0925 08:01:23.615095 139966406231936 utils.py:47] yolo_darknet/conv2d_46 bn\n",
            "I0925 08:01:23.620351 139966406231936 utils.py:47] yolo_darknet/conv2d_47 bn\n",
            "I0925 08:01:23.651552 139966406231936 utils.py:47] yolo_darknet/conv2d_48 bn\n",
            "I0925 08:01:23.656821 139966406231936 utils.py:47] yolo_darknet/conv2d_49 bn\n",
            "I0925 08:01:23.690315 139966406231936 utils.py:47] yolo_darknet/conv2d_50 bn\n",
            "I0925 08:01:23.695528 139966406231936 utils.py:47] yolo_darknet/conv2d_51 bn\n",
            "I0925 08:01:23.725040 139966406231936 utils.py:47] yolo_conv_0/conv2d_52 bn\n",
            "I0925 08:01:23.729950 139966406231936 utils.py:47] yolo_conv_0/conv2d_53 bn\n",
            "I0925 08:01:23.760172 139966406231936 utils.py:47] yolo_conv_0/conv2d_54 bn\n",
            "I0925 08:01:23.764946 139966406231936 utils.py:47] yolo_conv_0/conv2d_55 bn\n",
            "I0925 08:01:23.798232 139966406231936 utils.py:47] yolo_conv_0/conv2d_56 bn\n",
            "I0925 08:01:23.802914 139966406231936 utils.py:47] yolo_output_0/conv2d_57 bn\n",
            "I0925 08:01:23.834544 139966406231936 utils.py:47] yolo_output_0/conv2d_58 bias\n",
            "I0925 08:01:23.836859 139966406231936 utils.py:47] yolo_conv_1/conv2d_59 bn\n",
            "I0925 08:01:23.838511 139966406231936 utils.py:47] yolo_conv_1/conv2d_60 bn\n",
            "I0925 08:01:23.840229 139966406231936 utils.py:47] yolo_conv_1/conv2d_61 bn\n",
            "I0925 08:01:23.846385 139966406231936 utils.py:47] yolo_conv_1/conv2d_62 bn\n",
            "I0925 08:01:23.847898 139966406231936 utils.py:47] yolo_conv_1/conv2d_63 bn\n",
            "I0925 08:01:23.853471 139966406231936 utils.py:47] yolo_conv_1/conv2d_64 bn\n",
            "I0925 08:01:23.854941 139966406231936 utils.py:47] yolo_output_1/conv2d_65 bn\n",
            "I0925 08:01:23.860455 139966406231936 utils.py:47] yolo_output_1/conv2d_66 bias\n",
            "I0925 08:01:23.861680 139966406231936 utils.py:47] yolo_conv_2/conv2d_67 bn\n",
            "I0925 08:01:23.862780 139966406231936 utils.py:47] yolo_conv_2/conv2d_68 bn\n",
            "I0925 08:01:23.863921 139966406231936 utils.py:47] yolo_conv_2/conv2d_69 bn\n",
            "I0925 08:01:23.866221 139966406231936 utils.py:47] yolo_conv_2/conv2d_70 bn\n",
            "I0925 08:01:23.867339 139966406231936 utils.py:47] yolo_conv_2/conv2d_71 bn\n",
            "I0925 08:01:23.869673 139966406231936 utils.py:47] yolo_conv_2/conv2d_72 bn\n",
            "I0925 08:01:23.871274 139966406231936 utils.py:47] yolo_output_2/conv2d_73 bn\n",
            "I0925 08:01:23.875961 139966406231936 utils.py:47] yolo_output_2/conv2d_74 bias\n",
            "I0925 08:01:23.877161 139966406231936 load_weights.py:22] weights loaded\n",
            "I0925 08:01:24.735018 139966406231936 load_weights.py:26] sanity check passed\n",
            "I0925 08:01:25.286679 139966406231936 load_weights.py:29] weights saved\n"
          ]
        }
      ]
    },
    {
      "cell_type": "code",
      "metadata": {
        "collapsed": true,
        "id": "25MIOUsEzyHR",
        "colab": {
          "base_uri": "https://localhost:8080/"
        },
        "outputId": "6eedb128-7375-4efb-e79a-ab85b7be7fdb"
      },
      "source": [
        "!python object_tracker_colab.py --video data/video/roundabout.mp4 --output data/video/roundabout_Results.avi"
      ],
      "execution_count": null,
      "outputs": [
        {
          "output_type": "stream",
          "name": "stdout",
          "text": [
            "2021-09-25 08:06:36.171630: I tensorflow/stream_executor/platform/default/dso_loader.cc:53] Successfully opened dynamic library libcudart.so.11.0\n",
            "2021-09-25 08:06:38.089064: I tensorflow/stream_executor/platform/default/dso_loader.cc:53] Successfully opened dynamic library libcuda.so.1\n",
            "2021-09-25 08:06:38.101233: E tensorflow/stream_executor/cuda/cuda_driver.cc:328] failed call to cuInit: CUDA_ERROR_NO_DEVICE: no CUDA-capable device is detected\n",
            "2021-09-25 08:06:38.101297: I tensorflow/stream_executor/cuda/cuda_diagnostics.cc:156] kernel driver does not appear to be running on this host (0f136466fb28): /proc/driver/nvidia/version does not exist\n",
            "2021-09-25 08:06:38.103188: I tensorflow/core/platform/cpu_feature_guard.cc:142] This TensorFlow binary is optimized with oneAPI Deep Neural Network Library (oneDNN) to use the following CPU instructions in performance-critical operations:  AVX2 FMA\n",
            "To enable them in other operations, rebuild TensorFlow with the appropriate compiler flags.\n",
            "I0925 08:06:42.047780 140642303416192 object_tracker.py:55] weights loaded\n",
            "I0925 08:06:42.048197 140642303416192 object_tracker.py:58] classes loaded\n",
            "2021-09-25 08:06:42.165570: I tensorflow/compiler/mlir/mlir_graph_optimization_pass.cc:176] None of the MLIR Optimization Passes are enabled (registered 2)\n",
            "2021-09-25 08:06:42.166012: I tensorflow/core/platform/profile_utils/cpu_utils.cc:114] CPU Frequency: 2200220000 Hz\n",
            ": cannot connect to X server \n"
          ]
        }
      ]
    }
  ]
}